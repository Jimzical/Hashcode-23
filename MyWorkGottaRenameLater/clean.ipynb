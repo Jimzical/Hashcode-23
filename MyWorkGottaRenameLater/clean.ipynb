{
 "cells": [
  {
   "cell_type": "code",
   "execution_count": 171,
   "metadata": {},
   "outputs": [],
   "source": [
    "import pandas as pd\n",
    "import numpy\n",
    "import re\n",
    "import numpy  as np"
   ]
  },
  {
   "cell_type": "code",
   "execution_count": null,
   "metadata": {},
   "outputs": [],
   "source": [
    "# read BangaloreZomatoData.csv\n",
    "df = pd.read_csv('archive/BangaloreZomatoData.csv')\n",
    "df.head()"
   ]
  },
  {
   "cell_type": "code",
   "execution_count": null,
   "metadata": {},
   "outputs": [],
   "source": [
    "# print shape of df\n",
    "df.shape"
   ]
  },
  {
   "cell_type": "code",
   "execution_count": null,
   "metadata": {},
   "outputs": [],
   "source": [
    "# list df columns\n",
    "for col in df.columns:\n",
    "    colNa = df[col].isna().sum()\n",
    "    print(col,colNa)"
   ]
  },
  {
   "cell_type": "code",
   "execution_count": null,
   "metadata": {},
   "outputs": [],
   "source": [
    "# print rows if Timing is NaN replace with 9am - 9pm\n",
    "df['Timing'] = df['Timing'].fillna('9am - 9pm')\n",
    "df.head(10)"
   ]
  },
  {
   "cell_type": "code",
   "execution_count": 185,
   "metadata": {},
   "outputs": [
    {
     "ename": "IndexError",
     "evalue": "list index out of range",
     "output_type": "error",
     "traceback": [
      "\u001b[1;31m---------------------------------------------------------------------------\u001b[0m",
      "\u001b[1;31mIndexError\u001b[0m                                Traceback (most recent call last)",
      "Cell \u001b[1;32mIn[185], line 6\u001b[0m\n\u001b[0;32m      4\u001b[0m     ProperArea \u001b[39m=\u001b[39m re\u001b[39m.\u001b[39mfindall(\u001b[39mr\u001b[39m\u001b[39m'\u001b[39m\u001b[39m(.+), Bangalore\u001b[39m\u001b[39m'\u001b[39m, i)\n\u001b[0;32m      5\u001b[0m     \u001b[39m# replace the value in 'Area' column\u001b[39;00m\n\u001b[1;32m----> 6\u001b[0m     df[\u001b[39m'\u001b[39m\u001b[39mArea\u001b[39m\u001b[39m'\u001b[39m] \u001b[39m=\u001b[39m df[\u001b[39m'\u001b[39m\u001b[39mArea\u001b[39m\u001b[39m'\u001b[39m]\u001b[39m.\u001b[39mreplace(i, ProperArea[\u001b[39m0\u001b[39;49m])\n\u001b[0;32m      7\u001b[0m df\u001b[39m.\u001b[39mhead()\n",
      "\u001b[1;31mIndexError\u001b[0m: list index out of range"
     ]
    }
   ],
   "source": [
    "# name all unique values in 'Area' column\n",
    "for i in df.Area:\n",
    "    # get the string before ', Bangalore'\n",
    "    ProperArea = re.findall(r'(.+), Bangalore', i)\n",
    "    # replace the value in 'Area' column\n",
    "    df['Area'] = df['Area'].replace(i, ProperArea[0])\n",
    "df.head()"
   ]
  },
  {
   "cell_type": "code",
   "execution_count": null,
   "metadata": {},
   "outputs": [],
   "source": [
    "df.Timing.unique()\n",
    "# time_regex = r\"(?:\\bOpens at |[0-9]{1,2}(?::[0-9]{2})?(?:am|pm|AM|PM)?\\b)\"\n",
    "# time_pattern = re.compile(time_regex)\n",
    "\n",
    "# start_times = []\n",
    "# my_list = df['Timing'].tolist()\n",
    "# for item in my_list:\n",
    "#     match = time_pattern.search(item)\n",
    "#     if match:\n",
    "#         start_times.append(match.group())\n",
    "# # print(start_times)\n",
    "# print(pd.Series(start_times).unique())\n",
    "# print(len(pd.Series(start_times)))"
   ]
  },
  {
   "cell_type": "code",
   "execution_count": null,
   "metadata": {},
   "outputs": [],
   "source": [
    "reg1 = r'(?:\\bOpens at)'\n",
    "timing = df['Timing'].tolist()\n",
    "for item in timing:\n",
    "    match = re.search(reg1, item)\n",
    "    if match:\n",
    "        print(item)"
   ]
  },
  {
   "cell_type": "code",
   "execution_count": 184,
   "metadata": {},
   "outputs": [
    {
     "data": {
      "text/plain": [
       "array(['', 'Afghan', 'African', 'American', 'Andhra', 'Arabian', 'Asian',\n",
       "       'Assamese', 'Awadhi', 'BBQ', 'Bakery', 'Bar Food', 'Bengali',\n",
       "       'Beverages', 'Bihari', 'Biryani', 'British', 'Bubble Tea',\n",
       "       'Burger', 'Burmese', 'Cafe', 'Cantonese', 'Charcoal Chicken',\n",
       "       'Chettinad', 'Chinese', 'Coffee', 'Continental', 'Cuisine Varies',\n",
       "       'Desserts', 'European', 'Fast Food', 'Finger Food', 'French',\n",
       "       'Frozen Yogurt', 'German', 'Goan', 'Gujarati', 'Healthy Food',\n",
       "       'Hot dogs', 'Hyderabadi', 'Ice Cream', 'Indonesian', 'Iranian',\n",
       "       'Italian', 'Japanese', 'Juices', 'Kashmiri', 'Kebab', 'Kerala',\n",
       "       'Konkan', 'Korean', 'Lebanese', 'Lucknowi', 'Maharashtrian',\n",
       "       'Malaysian', 'Malwani', 'Mangalorean', 'Mediterranean', 'Mexican',\n",
       "       'Middle Eastern', 'Mishti', 'Mithai', 'Modern Indian', 'Momos',\n",
       "       'Mughlai', 'Naga', 'Nepalese', 'North Eastern', 'North Indian',\n",
       "       'Odia', 'Oriental', 'Paan', 'Panini', 'Parsi', 'Pasta', 'Pizza',\n",
       "       'Portuguese', 'Rajasthani', 'Raw Meats', 'Roast Chicken', 'Rolls',\n",
       "       'Salad', 'Sandwich', 'Seafood', 'Shake', 'Sindhi', 'Singaporean',\n",
       "       'South American', 'South Indian', 'Steak', 'Street Food', 'Sushi',\n",
       "       'Tamil', 'Tea', 'Tex-Mex', 'Thai', 'Tibetan', 'Turkish',\n",
       "       'Vietnamese', 'Waffle', 'Wraps'], dtype=object)"
      ]
     },
     "execution_count": 184,
     "metadata": {},
     "output_type": "execute_result"
    }
   ],
   "source": [
    "# print unique values in 'Cuisines' column\n",
    "SemiUnique = df['Cuisines'].unique()\n",
    "# ProperUnique = []\n",
    "#     spt = i.split(',')\n",
    "#     print(spt)\n",
    "#     # spt.extend(spt)\n",
    "# # print(spt[:10])\n",
    "spt = []\n",
    "for i in SemiUnique:\n",
    "    spt.extend(i.split(','))\n",
    "uni = pd.Series(spt).unique()\n",
    "spt2 = []\n",
    "for i in uni:\n",
    "    spt2.append(i.strip())\n",
    "    # print(i.strip())\n",
    "uni = pd.Series(spt2).unique()\n",
    "# print(uni)\n",
    "# print in alphabetical order\n",
    "uni.sort()\n",
    "uni"
   ]
  },
  {
   "cell_type": "code",
   "execution_count": null,
   "metadata": {},
   "outputs": [],
   "source": [
    "# making column for each cuisine\n",
    "for new_col in uni:\n",
    "    if len(new_col) != 0:\n",
    "        df[new_col] = 0 \n",
    "\n",
    "# drop last 11 columns\n",
    "df.drop(df.columns[-11:], axis=1, inplace=True)\n",
    "df.columns\n",
    "for new_col in uni[:]:\n",
    "    # print(type(df.Cuisines.str.contains(new_col)))\n",
    "    df[new_col] = df.Cuisines.str.contains(new_col)\n",
    "    # if new_col in df.Cuisines make df.new_col = 1"
   ]
  },
  {
   "cell_type": "code",
   "execution_count": null,
   "metadata": {},
   "outputs": [],
   "source": [
    "df.head()"
   ]
  },
  {
   "cell_type": "code",
   "execution_count": null,
   "metadata": {},
   "outputs": [],
   "source": [
    "# convert all True to 1 and False to 0\n",
    "df = df.replace({True: 1, False: 0})\n",
    "df.head()"
   ]
  },
  {
   "cell_type": "code",
   "execution_count": null,
   "metadata": {},
   "outputs": [],
   "source": [
    "# save this df to CleanZomatio.csv\n",
    "df.to_csv('CleanZomato.csv',index_label='ID')\n"
   ]
  },
  {
   "cell_type": "code",
   "execution_count": null,
   "metadata": {},
   "outputs": [],
   "source": [
    "# make all '-' in Dinner Ratings"
   ]
  },
  {
   "cell_type": "code",
   "execution_count": 188,
   "metadata": {},
   "outputs": [
    {
     "name": "stdout",
     "output_type": "stream",
     "text": [
      "273, Monalisa, 6th Main, 100 Feet Road, Indiranagar, Defence Colony, Indiranagar, Bangalore\n",
      "544, First Floor, CMH Road, Near Indiranagar Metro Station, Indiranagar, Bangalore\n",
      "8/ 9, 17th F Cross, 2nd Stage, Indiranagar, Bangalore\n",
      "308, 2nd Stage, 100 Feet Road, Indiranagar, Bangalore\n",
      "38/1A, CMH Road, Indiranagar, Bangalore\n"
     ]
    }
   ],
   "source": [
    "for i in df.Full_Address.head():\n",
    "    print(i)"
   ]
  },
  {
   "cell_type": "code",
   "execution_count": null,
   "metadata": {},
   "outputs": [],
   "source": [
    "# import folium\n",
    "\n",
    "# # Create a map of Bangalore\n",
    "# map_bangalore = folium.Map(location=[12.9716, 77.5946], zoom_start=11)\n",
    "\n",
    "# # Add a marker for Bangalore\n",
    "# folium.Marker(location=[12.9716, 77.5946], popup='Bangalore').add_to(map_bangalore)\n",
    "\n",
    "# # Save the map as an HTML file\n",
    "# map_bangalore.save('bangalore_map.html')\n",
    "\n",
    "\n",
    "import pandas\n",
    "\n",
    "# Read the data from the CSV file\n",
    "df4 = pandas.read_csv('archive/df4.csv')\n",
    "df4 = df4.set_index('ID')\n",
    "print(df4.head())\n",
    "import plotly.express as px\n",
    "\n",
    "# fig = px.scatter_mapbox(df4, lat=\"Latitude\", lon=\"Longitude\", hover_name=\"Short Address\", hover_data=[\"AverageCost\"], color_discrete_sequence=[\"fuchsia\"], zoom=3, height=300)\n",
    "fig = px.density_mapbox(df4, lat=\"Latitude\", lon=\"Longitude\", z=\"AverageCost\",mapbox_style=\"stamen-terrain\")\n",
    "# can you make the map bigger?\n",
    "fig.update_layout(mapbox_style=\"open-street-map\", mapbox_zoom=11, mapbox_center_lat = 12.9716, mapbox_center_lon = 77.5946)\n",
    "fig.show()"
   ]
  },
  {
   "cell_type": "code",
   "execution_count": null,
   "metadata": {},
   "outputs": [],
   "source": [
    "# import folium\n",
    "\n",
    "# # Create a map of Bangalore\n",
    "# map_bangalore = folium.Map(location=[12.9716, 77.5946], zoom_start=11)\n",
    "\n",
    "# # Add a marker for Bangalore\n",
    "# folium.Marker(location=[12.9716, 77.5946], popup='Bangalore').add_to(map_bangalore)\n",
    "\n",
    "# # Save the map as an HTML file\n",
    "# map_bangalore.save('bangalore_map.html')\n",
    "\n"
   ]
  },
  {
   "cell_type": "code",
   "execution_count": 199,
   "metadata": {},
   "outputs": [
    {
     "name": "stdout",
     "output_type": "stream",
     "text": [
      "Your map should have been opened in your browser automatically.\n",
      "Press ctrl+c to return.\n"
     ]
    }
   ],
   "source": [
    "import folium\n",
    "from folium.plugins import HeatMap\n",
    "import pandas\n",
    "# Load data\n",
    "data = pandas.read_csv('archive/df4.csv')\n",
    "# Create map\n",
    "m = folium.Map(location=[12.9716, 77.5946], zoom_start=12)\n",
    "# replace NaN values with 0\n",
    "data = data.fillna(0)\n",
    "\n",
    "\n",
    "def CusineArea(data):\n",
    "    heatmap_data = data[['Latitude', 'Longitude']].values.tolist()\n",
    "    HeatMap(heatmap_data, name='Heatmap', min_opacity=0.3, radius=25, blur=15, max_zoom=1).add_to(m)\n",
    "    folium.LayerControl().add_to(m)\n",
    "    m.show_in_browser()\n",
    "x =data[data['Cuisines'].str.contains('Chinese')]\n",
    "CusineArea(x)\n",
    "\n",
    "# m.save('heatmap.html')"
   ]
  },
  {
   "cell_type": "code",
   "execution_count": null,
   "metadata": {},
   "outputs": [],
   "source": []
  }
 ],
 "metadata": {
  "kernelspec": {
   "display_name": "Python 3",
   "language": "python",
   "name": "python3"
  },
  "language_info": {
   "codemirror_mode": {
    "name": "ipython",
    "version": 3
   },
   "file_extension": ".py",
   "mimetype": "text/x-python",
   "name": "python",
   "nbconvert_exporter": "python",
   "pygments_lexer": "ipython3",
   "version": "3.10.7"
  },
  "orig_nbformat": 4
 },
 "nbformat": 4,
 "nbformat_minor": 2
}
